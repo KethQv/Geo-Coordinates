{
 "cells": [
  {
   "cell_type": "markdown",
   "metadata": {},
   "source": [
    "# UTM Coordinate Conversor \n",
    "This script receives UTM Coordinates and corvert them to latitude and longitude.\n",
    "\n",
    "### The csv file must be in this format:\n",
    "X, Y\n",
    "\n",
    "\n",
    "coord, coord\n",
    "\n",
    "\n",
    "coord, coord\n",
    "\n",
    "\n",
    "coord, coord\n",
    "\n",
    "\n",
    "..., ...\n",
    "\n"
   ]
  },
  {
   "cell_type": "code",
   "execution_count": 54,
   "metadata": {},
   "outputs": [
    {
     "name": "stdout",
     "output_type": "stream",
     "text": [
      "         X        Y\n",
      "0   478725  2842846\n",
      "1   477911  2842246\n",
      "2   472552  2842216\n",
      "3   469381  2842512\n",
      "4   467130  2843643\n",
      "5   463342  2847006\n",
      "6   460350  2849900\n",
      "7   460601  2857001\n",
      "8   458800  2859580\n",
      "9   458460  2865155\n",
      "10  457323  2870038\n",
      "11  457272  2872766\n",
      "12  460354  2879921\n",
      "13  463885  2883841\n",
      "14  468005  2884366\n"
     ]
    }
   ],
   "source": [
    "import csv\n",
    "import pyproj\n",
    "import folium\n",
    "import numpy as np\n",
    "import pandas as pd\n",
    "import geopandas as gpd\n",
    "from shapely.geometry import Polygon\n",
    "\n",
    "# Here you put the file path\n",
    "FILE = 'Coordenadas2.csv'\n",
    "\n",
    "_projections = {}\n",
    "\n",
    "print(pd.read_csv(FILE))"
   ]
  },
  {
   "cell_type": "code",
   "execution_count": 53,
   "metadata": {},
   "outputs": [],
   "source": [
    "def getUtmCoordinatesFromCsv(file):\n",
    "    with open(file, 'r') as csvfile:\n",
    "        csv_reader = csv.reader(csvfile)\n",
    "        next(csv_reader)\n",
    "        utmCoordinates = [[]]\n",
    "        a = 0\n",
    "        for line in csv_reader:\n",
    "            for coords in line:\n",
    "                utmCoordinates[a].append(int(coords))\n",
    "            utmCoordinates.append([])\n",
    "            a += 1\n",
    "    utmCoordinates.pop()\n",
    "    return utmCoordinates"
   ]
  },
  {
   "cell_type": "code",
   "execution_count": 29,
   "metadata": {},
   "outputs": [
    {
     "name": "stdout",
     "output_type": "stream",
     "text": [
      "[[478725, 2842846], [477911, 2842246], [472552, 2842216], [469381, 2842512], [467130, 2843643], [463342, 2847006], [460350, 2849900], [460601, 2857001], [458800, 2859580], [458460, 2865155], [457323, 2870038], [457272, 2872766], [460354, 2879921], [463885, 2883841], [468005, 2884366]]\n"
     ]
    }
   ],
   "source": [
    "UTM_COORDINATES = getUtmCoordinatesFromCsv(FILE)\n",
    "print(UTM_COORDINATES)"
   ]
  },
  {
   "cell_type": "code",
   "execution_count": 2,
   "metadata": {},
   "outputs": [],
   "source": [
    "def unproject(z, l, x, y):\n",
    "    if z not in _projections:\n",
    "        _projections[z] = pyproj.Proj(proj='utm', zone=z, ellps='WGS84')\n",
    "    if l < 'N':\n",
    "        y -= 10000000\n",
    "    lng, lat = _projections[z](x, y, inverse=True)\n",
    "    return (lng, lat)"
   ]
  },
  {
   "cell_type": "code",
   "execution_count": 33,
   "metadata": {},
   "outputs": [],
   "source": [
    "def getLatitudeLongitude(coordinatesUTM):\n",
    "    l = \"R\"\n",
    "    z = 12\n",
    "    longList = []\n",
    "    latList = []\n",
    "    for coordinates in coordinatesUTM:\n",
    "        lng, lat = unproject(z, l, coordinates[0], coordinates[1])\n",
    "        latList.append(lat)\n",
    "        longList.append(lng)\n",
    "    return latList, longList"
   ]
  },
  {
   "cell_type": "code",
   "execution_count": 34,
   "metadata": {},
   "outputs": [
    {
     "name": "stdout",
     "output_type": "stream",
     "text": [
      "[25.703318627846304, 25.697888503295903, 25.697527186163537, 25.70013738785999, 25.710301729263374, 25.740579931614143, 25.766634705538873, 25.830762790559334, 25.854000975905958, 25.90433231837708, 25.948391440787116, 25.973022848588737, 26.03771742888544, 26.07320599577715, 26.07804372042711] [-111.21205477917985, -111.220158167176, -111.27356956178869, -111.30518085731181, -111.32764434718007, -111.36549493141014, -111.39541234770167, -111.39312073994799, -111.41117114017517, -111.41474001433164, -111.42625027689799, -111.42684850236161, -111.39627699269832, -111.36109234196064, -111.31991234812486]\n"
     ]
    }
   ],
   "source": [
    "latList, longList = getLatitudeLongitude(UTM_COORDINATES)\n",
    "print(latList, longList)"
   ]
  },
  {
   "cell_type": "code",
   "execution_count": 36,
   "metadata": {},
   "outputs": [],
   "source": [
    "def dataFrame(latList, longList):\n",
    "    dataFrame = pd.DataFrame(np.c_[tuple(latList), tuple(longList)], columns=[ 'Lat', 'Lon'])\n",
    "    return dataFrame"
   ]
  },
  {
   "cell_type": "code",
   "execution_count": 47,
   "metadata": {},
   "outputs": [
    {
     "name": "stdout",
     "output_type": "stream",
     "text": [
      "          Lat         Lon\n",
      "0   25.703319 -111.212055\n",
      "1   25.697889 -111.220158\n",
      "2   25.697527 -111.273570\n",
      "3   25.700137 -111.305181\n",
      "4   25.710302 -111.327644\n",
      "5   25.740580 -111.365495\n",
      "6   25.766635 -111.395412\n",
      "7   25.830763 -111.393121\n",
      "8   25.854001 -111.411171\n",
      "9   25.904332 -111.414740\n",
      "10  25.948391 -111.426250\n",
      "11  25.973023 -111.426849\n",
      "12  26.037717 -111.396277\n",
      "13  26.073206 -111.361092\n",
      "14  26.078044 -111.319912\n"
     ]
    }
   ],
   "source": [
    "latitudeLongitudeDataFrame = dataFrame(latList, longList)\n",
    "latitudeLongitudeDataFrame.to_csv('latlon.csv', index=False)\n",
    "print(pd.read_csv('latlon.csv'))"
   ]
  },
  {
   "cell_type": "code",
   "execution_count": 72,
   "metadata": {},
   "outputs": [
    {
     "name": "stdout",
     "output_type": "stream",
     "text": [
      "0    POLYGON ((-111.21205 25.70332, -111.22016 25.6...\n",
      "Name: geometry, dtype: geometry\n"
     ]
    }
   ],
   "source": [
    "polygon_geom = Polygon(zip(longList, latList))\n",
    "crs = {'init': 'epsg:4326'}\n",
    "polygon = gpd.GeoDataFrame(index=[0], crs=crs, geometry=[polygon_geom])       \n",
    "print(polygon.geometry)\n",
    "\n",
    "polygon.to_file(filename='polygon.geojson', driver='GeoJSON')\n",
    "polygon.to_file(filename='polygon.shp', driver=\"ESRI Shapefile\")"
   ]
  },
  {
   "cell_type": "code",
   "execution_count": 79,
   "metadata": {},
   "outputs": [
    {
     "data": {
      "text/html": [
       "<div style=\"width:100%;\"><div style=\"position:relative;width:100%;height:0;padding-bottom:60%;\"><span style=\"color:#565656\">Make this Notebook Trusted to load map: File -> Trust Notebook</span><iframe src=\"about:blank\" style=\"position:absolute;width:100%;height:100%;left:0;top:0;border:none !important;\" data-html=%3C%21DOCTYPE%20html%3E%0A%3Chead%3E%20%20%20%20%0A%20%20%20%20%3Cmeta%20http-equiv%3D%22content-type%22%20content%3D%22text/html%3B%20charset%3DUTF-8%22%20/%3E%0A%20%20%20%20%0A%20%20%20%20%20%20%20%20%3Cscript%3E%0A%20%20%20%20%20%20%20%20%20%20%20%20L_NO_TOUCH%20%3D%20false%3B%0A%20%20%20%20%20%20%20%20%20%20%20%20L_DISABLE_3D%20%3D%20false%3B%0A%20%20%20%20%20%20%20%20%3C/script%3E%0A%20%20%20%20%0A%20%20%20%20%3Cstyle%3Ehtml%2C%20body%20%7Bwidth%3A%20100%25%3Bheight%3A%20100%25%3Bmargin%3A%200%3Bpadding%3A%200%3B%7D%3C/style%3E%0A%20%20%20%20%3Cstyle%3E%23map%20%7Bposition%3Aabsolute%3Btop%3A0%3Bbottom%3A0%3Bright%3A0%3Bleft%3A0%3B%7D%3C/style%3E%0A%20%20%20%20%3Cscript%20src%3D%22https%3A//cdn.jsdelivr.net/npm/leaflet%401.6.0/dist/leaflet.js%22%3E%3C/script%3E%0A%20%20%20%20%3Cscript%20src%3D%22https%3A//code.jquery.com/jquery-1.12.4.min.js%22%3E%3C/script%3E%0A%20%20%20%20%3Cscript%20src%3D%22https%3A//maxcdn.bootstrapcdn.com/bootstrap/3.2.0/js/bootstrap.min.js%22%3E%3C/script%3E%0A%20%20%20%20%3Cscript%20src%3D%22https%3A//cdnjs.cloudflare.com/ajax/libs/Leaflet.awesome-markers/2.0.2/leaflet.awesome-markers.js%22%3E%3C/script%3E%0A%20%20%20%20%3Clink%20rel%3D%22stylesheet%22%20href%3D%22https%3A//cdn.jsdelivr.net/npm/leaflet%401.6.0/dist/leaflet.css%22/%3E%0A%20%20%20%20%3Clink%20rel%3D%22stylesheet%22%20href%3D%22https%3A//maxcdn.bootstrapcdn.com/bootstrap/3.2.0/css/bootstrap.min.css%22/%3E%0A%20%20%20%20%3Clink%20rel%3D%22stylesheet%22%20href%3D%22https%3A//maxcdn.bootstrapcdn.com/bootstrap/3.2.0/css/bootstrap-theme.min.css%22/%3E%0A%20%20%20%20%3Clink%20rel%3D%22stylesheet%22%20href%3D%22https%3A//maxcdn.bootstrapcdn.com/font-awesome/4.6.3/css/font-awesome.min.css%22/%3E%0A%20%20%20%20%3Clink%20rel%3D%22stylesheet%22%20href%3D%22https%3A//cdnjs.cloudflare.com/ajax/libs/Leaflet.awesome-markers/2.0.2/leaflet.awesome-markers.css%22/%3E%0A%20%20%20%20%3Clink%20rel%3D%22stylesheet%22%20href%3D%22https%3A//cdn.jsdelivr.net/gh/python-visualization/folium/folium/templates/leaflet.awesome.rotate.min.css%22/%3E%0A%20%20%20%20%0A%20%20%20%20%20%20%20%20%20%20%20%20%3Cmeta%20name%3D%22viewport%22%20content%3D%22width%3Ddevice-width%2C%0A%20%20%20%20%20%20%20%20%20%20%20%20%20%20%20%20initial-scale%3D1.0%2C%20maximum-scale%3D1.0%2C%20user-scalable%3Dno%22%20/%3E%0A%20%20%20%20%20%20%20%20%20%20%20%20%3Cstyle%3E%0A%20%20%20%20%20%20%20%20%20%20%20%20%20%20%20%20%23map_3ca8068860394dca8946692de8d0ecf6%20%7B%0A%20%20%20%20%20%20%20%20%20%20%20%20%20%20%20%20%20%20%20%20position%3A%20relative%3B%0A%20%20%20%20%20%20%20%20%20%20%20%20%20%20%20%20%20%20%20%20width%3A%20100.0%25%3B%0A%20%20%20%20%20%20%20%20%20%20%20%20%20%20%20%20%20%20%20%20height%3A%20100.0%25%3B%0A%20%20%20%20%20%20%20%20%20%20%20%20%20%20%20%20%20%20%20%20left%3A%200.0%25%3B%0A%20%20%20%20%20%20%20%20%20%20%20%20%20%20%20%20%20%20%20%20top%3A%200.0%25%3B%0A%20%20%20%20%20%20%20%20%20%20%20%20%20%20%20%20%7D%0A%20%20%20%20%20%20%20%20%20%20%20%20%3C/style%3E%0A%20%20%20%20%20%20%20%20%0A%3C/head%3E%0A%3Cbody%3E%20%20%20%20%0A%20%20%20%20%0A%20%20%20%20%20%20%20%20%20%20%20%20%3Cdiv%20class%3D%22folium-map%22%20id%3D%22map_3ca8068860394dca8946692de8d0ecf6%22%20%3E%3C/div%3E%0A%20%20%20%20%20%20%20%20%0A%3C/body%3E%0A%3Cscript%3E%20%20%20%20%0A%20%20%20%20%0A%20%20%20%20%20%20%20%20%20%20%20%20var%20map_3ca8068860394dca8946692de8d0ecf6%20%3D%20L.map%28%0A%20%20%20%20%20%20%20%20%20%20%20%20%20%20%20%20%22map_3ca8068860394dca8946692de8d0ecf6%22%2C%0A%20%20%20%20%20%20%20%20%20%20%20%20%20%20%20%20%7B%0A%20%20%20%20%20%20%20%20%20%20%20%20%20%20%20%20%20%20%20%20center%3A%20%5B25.918145%2C%20-111.274523%5D%2C%0A%20%20%20%20%20%20%20%20%20%20%20%20%20%20%20%20%20%20%20%20crs%3A%20L.CRS.EPSG3857%2C%0A%20%20%20%20%20%20%20%20%20%20%20%20%20%20%20%20%20%20%20%20zoom%3A%209.5%2C%0A%20%20%20%20%20%20%20%20%20%20%20%20%20%20%20%20%20%20%20%20zoomControl%3A%20true%2C%0A%20%20%20%20%20%20%20%20%20%20%20%20%20%20%20%20%20%20%20%20preferCanvas%3A%20false%2C%0A%20%20%20%20%20%20%20%20%20%20%20%20%20%20%20%20%7D%0A%20%20%20%20%20%20%20%20%20%20%20%20%29%3B%0A%0A%20%20%20%20%20%20%20%20%20%20%20%20%0A%0A%20%20%20%20%20%20%20%20%0A%20%20%20%20%0A%20%20%20%20%20%20%20%20%20%20%20%20var%20tile_layer_e3f0773b58524141a97c14f5790e03bc%20%3D%20L.tileLayer%28%0A%20%20%20%20%20%20%20%20%20%20%20%20%20%20%20%20%22https%3A//%7Bs%7D.tile.openstreetmap.org/%7Bz%7D/%7Bx%7D/%7By%7D.png%22%2C%0A%20%20%20%20%20%20%20%20%20%20%20%20%20%20%20%20%7B%22attribution%22%3A%20%22Data%20by%20%5Cu0026copy%3B%20%5Cu003ca%20href%3D%5C%22http%3A//openstreetmap.org%5C%22%5Cu003eOpenStreetMap%5Cu003c/a%5Cu003e%2C%20under%20%5Cu003ca%20href%3D%5C%22http%3A//www.openstreetmap.org/copyright%5C%22%5Cu003eODbL%5Cu003c/a%5Cu003e.%22%2C%20%22detectRetina%22%3A%20false%2C%20%22maxNativeZoom%22%3A%2018%2C%20%22maxZoom%22%3A%2018%2C%20%22minZoom%22%3A%200%2C%20%22noWrap%22%3A%20false%2C%20%22opacity%22%3A%201%2C%20%22subdomains%22%3A%20%22abc%22%2C%20%22tms%22%3A%20false%7D%0A%20%20%20%20%20%20%20%20%20%20%20%20%29.addTo%28map_3ca8068860394dca8946692de8d0ecf6%29%3B%0A%20%20%20%20%20%20%20%20%0A%20%20%20%20%0A%0A%20%20%20%20%20%20%20%20function%20geo_json_14b8c42f3d6c4b3db55faa1d1ab4f7dc_onEachFeature%28feature%2C%20layer%29%20%7B%0A%20%20%20%20%20%20%20%20%20%20%20%20layer.on%28%7B%0A%20%20%20%20%20%20%20%20%20%20%20%20%7D%29%3B%0A%20%20%20%20%20%20%20%20%7D%3B%0A%20%20%20%20%20%20%20%20var%20geo_json_14b8c42f3d6c4b3db55faa1d1ab4f7dc%20%3D%20L.geoJson%28null%2C%20%7B%0A%20%20%20%20%20%20%20%20%20%20%20%20%20%20%20%20onEachFeature%3A%20geo_json_14b8c42f3d6c4b3db55faa1d1ab4f7dc_onEachFeature%2C%0A%20%20%20%20%20%20%20%20%20%20%20%20%0A%20%20%20%20%20%20%20%20%7D%29%3B%0A%0A%20%20%20%20%20%20%20%20function%20geo_json_14b8c42f3d6c4b3db55faa1d1ab4f7dc_add%20%28data%29%20%7B%0A%20%20%20%20%20%20%20%20%20%20%20%20geo_json_14b8c42f3d6c4b3db55faa1d1ab4f7dc%0A%20%20%20%20%20%20%20%20%20%20%20%20%20%20%20%20.addData%28data%29%0A%20%20%20%20%20%20%20%20%20%20%20%20%20%20%20%20.addTo%28map_3ca8068860394dca8946692de8d0ecf6%29%3B%0A%20%20%20%20%20%20%20%20%7D%0A%20%20%20%20%20%20%20%20%20%20%20%20geo_json_14b8c42f3d6c4b3db55faa1d1ab4f7dc_add%28%7B%22crs%22%3A%20%7B%22properties%22%3A%20%7B%22name%22%3A%20%22urn%3Aogc%3Adef%3Acrs%3AOGC%3A1.3%3ACRS84%22%7D%2C%20%22type%22%3A%20%22name%22%7D%2C%20%22features%22%3A%20%5B%7B%22geometry%22%3A%20%7B%22coordinates%22%3A%20%5B%5B%5B-111.21205477917985%2C%2025.703318627846304%5D%2C%20%5B-111.220158167176%2C%2025.697888503295903%5D%2C%20%5B-111.27356956178869%2C%2025.697527186163537%5D%2C%20%5B-111.30518085731181%2C%2025.70013738785999%5D%2C%20%5B-111.32764434718007%2C%2025.710301729263374%5D%2C%20%5B-111.36549493141014%2C%2025.740579931614143%5D%2C%20%5B-111.39541234770167%2C%2025.766634705538873%5D%2C%20%5B-111.39312073994799%2C%2025.830762790559334%5D%2C%20%5B-111.41117114017517%2C%2025.854000975905958%5D%2C%20%5B-111.41474001433164%2C%2025.90433231837708%5D%2C%20%5B-111.42625027689799%2C%2025.948391440787116%5D%2C%20%5B-111.42684850236161%2C%2025.973022848588737%5D%2C%20%5B-111.39627699269832%2C%2026.03771742888544%5D%2C%20%5B-111.36109234196064%2C%2026.07320599577715%5D%2C%20%5B-111.31991234812486%2C%2026.07804372042711%5D%2C%20%5B-111.21205477917985%2C%2025.703318627846304%5D%5D%5D%2C%20%22type%22%3A%20%22Polygon%22%7D%2C%20%22properties%22%3A%20%7B%7D%2C%20%22type%22%3A%20%22Feature%22%7D%5D%2C%20%22type%22%3A%20%22FeatureCollection%22%7D%29%3B%0A%0A%20%20%20%20%20%20%20%20%0A%3C/script%3E onload=\"this.contentDocument.open();this.contentDocument.write(    decodeURIComponent(this.getAttribute('data-html')));this.contentDocument.close();\" allowfullscreen webkitallowfullscreen mozallowfullscreen></iframe></div></div>"
      ],
      "text/plain": [
       "<folium.folium.Map at 0x114aaa250>"
      ]
     },
     "execution_count": 79,
     "metadata": {},
     "output_type": "execute_result"
    }
   ],
   "source": [
    "m = folium.Map(location=[25.918145, -111.274523], zoom_start=9.5)\n",
    "folium.GeoJson('polygon.geojson', name=\"geojson\").add_to(m)\n",
    "m"
   ]
  },
  {
   "cell_type": "code",
   "execution_count": null,
   "metadata": {},
   "outputs": [],
   "source": []
  }
 ],
 "metadata": {
  "kernelspec": {
   "display_name": "env",
   "language": "python",
   "name": "env"
  },
  "language_info": {
   "codemirror_mode": {
    "name": "ipython",
    "version": 3
   },
   "file_extension": ".py",
   "mimetype": "text/x-python",
   "name": "python",
   "nbconvert_exporter": "python",
   "pygments_lexer": "ipython3",
   "version": "3.8.2"
  }
 },
 "nbformat": 4,
 "nbformat_minor": 4
}
