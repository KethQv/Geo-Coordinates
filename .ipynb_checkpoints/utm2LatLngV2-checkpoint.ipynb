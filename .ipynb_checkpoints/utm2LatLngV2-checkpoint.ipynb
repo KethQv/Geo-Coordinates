{
 "cells": [
  {
   "cell_type": "markdown",
   "metadata": {},
   "source": [
    "# UTM Coordinate Conversor \n",
    "This script receives UTM Coordinates and corvert them to latitude and longitude.\n",
    "\n",
    "## The csv file must be in this format:\n",
    "X, Y\n",
    "\n",
    "\n",
    "coord, coord\n",
    "\n",
    "\n",
    "coord, coord\n",
    "\n",
    "\n",
    "coord, coord\n",
    "\n",
    "\n",
    "..., ...\n",
    "\n"
   ]
  },
  {
   "cell_type": "code",
   "execution_count": 7,
   "metadata": {},
   "outputs": [],
   "source": [
    "import csv\n",
    "import pyproj\n",
    "import numpy as np\n",
    "from pandas import DataFrame\n",
    "\n",
    "# Here you put the file path\n",
    "FILE = 'Coordenadas2.csv'\n",
    "\n",
    "_projections = {}"
   ]
  },
  {
   "cell_type": "code",
   "execution_count": 2,
   "metadata": {},
   "outputs": [],
   "source": [
    "def unproject(z, l, x, y):\n",
    "    if z not in _projections:\n",
    "        _projections[z] = pyproj.Proj(proj='utm', zone=z, ellps='WGS84')\n",
    "    if l < 'N':\n",
    "        y -= 10000000\n",
    "    lng, lat = _projections[z](x, y, inverse=True)\n",
    "    return (lng, lat)"
   ]
  },
  {
   "cell_type": "code",
   "execution_count": 7,
   "metadata": {},
   "outputs": [],
   "source": [
    "def graphicCordinates(coordinatesUTM):\n",
    "    l = \"R\"\n",
    "    z = 12\n",
    "    lngList = []\n",
    "    latList = []\n",
    "    for coordinates in coordinatesUTM:\n",
    "        lng, lat = unproject(z, l, coordinates[0], coordinates[1])\n",
    "        lngList.append(lng)\n",
    "        latList.append(lat)\n",
    "    graphic = DataFrame(np.c_[tuple(latList), tuple(lngList)], columns=[ 'Lat', 'Lon'])\n",
    "    print(graphic)"
   ]
  },
  {
   "cell_type": "code",
   "execution_count": 4,
   "metadata": {},
   "outputs": [],
   "source": [
    "def getUtmCoordinatesFromCsv(file):\n",
    "    with open(file, 'r') as csvfile:\n",
    "        csv_reader = csv.reader(csvfile)\n",
    "        next(csv_reader)\n",
    "        utmCoordinates = [[]]\n",
    "        a = 0\n",
    "        for line in csv_reader:\n",
    "            for coords in line:\n",
    "                utmCoordinates[a].append(int(coords))\n",
    "            utmCoordinates.append([])\n",
    "            a += 1\n",
    "    utmCoordinates.pop()\n",
    "    return utmCoordinates"
   ]
  },
  {
   "cell_type": "code",
   "execution_count": 5,
   "metadata": {},
   "outputs": [],
   "source": [
    "UTM_COORDINATES = getUtmCoordinatesFromCsv(FILE)\n"
   ]
  },
  {
   "cell_type": "code",
   "execution_count": 6,
   "metadata": {},
   "outputs": [
    {
     "name": "stdout",
     "output_type": "stream",
     "text": [
      "          Lat         Lon\n",
      "0   25.703319 -111.212055\n",
      "1   25.697889 -111.220158\n",
      "2   25.697527 -111.273570\n",
      "3   25.700137 -111.305181\n",
      "4   25.710302 -111.327644\n",
      "5   25.740580 -111.365495\n",
      "6   25.766635 -111.395412\n",
      "7   25.830763 -111.393121\n",
      "8   25.854001 -111.411171\n",
      "9   25.904332 -111.414740\n",
      "10  25.948391 -111.426250\n",
      "11  25.973023 -111.426849\n",
      "12  26.037717 -111.396277\n",
      "13  26.073206 -111.361092\n",
      "14  26.078044 -111.319912\n"
     ]
    }
   ],
   "source": [
    "graphicCordinates(UTM_COORDINATES)"
   ]
  }
 ],
 "metadata": {
  "kernelspec": {
   "display_name": "env",
   "language": "python",
   "name": "env"
  },
  "language_info": {
   "codemirror_mode": {
    "name": "ipython",
    "version": 3
   },
   "file_extension": ".py",
   "mimetype": "text/x-python",
   "name": "python",
   "nbconvert_exporter": "python",
   "pygments_lexer": "ipython3",
   "version": "3.9.2"
  }
 },
 "nbformat": 4,
 "nbformat_minor": 4
}
